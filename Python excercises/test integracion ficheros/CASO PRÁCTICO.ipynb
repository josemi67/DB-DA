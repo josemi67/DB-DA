{
 "cells": [
  {
   "cell_type": "code",
   "execution_count": 45,
   "metadata": {},
   "outputs": [],
   "source": [
    "import csv\n",
    "\n",
    "# Función que escribe un diccionario en un fichero CSV, con el nombre que recibe.\n",
    "def escribe(map, fileName):\n",
    "    try:\n",
    "        outFile=open(fileName, \"w\")\n",
    "    except IOError:\n",
    "        print ('El fichero de salida \"',fileName,'\" ya está abierto, primero cierrelo y vuelva a intentar')\n",
    "        return\n",
    "    outWriter = csv.writer(outFile,delimiter=',',lineterminator='\\n')\n",
    "    for key in map:\n",
    "        outWriter.writerow([key,map.get(key)])\n",
    "    outFile.close()\n",
    "    print ('Archivo ' + fileName + ' creado con exito.')\n",
    "\n",
    "# Función que, dada una columna, contabiliza las veces que aparece cada\n",
    "# término de esa columna en el archivo \"PitchingPost.csv\"\n",
    "def frecuency(column, fileName):\n",
    "    error = False\n",
    "    map = {}\n",
    "    try:\n",
    "        file=open(\"PitchingPost.csv\")\n",
    "    except IOError:       \n",
    "        error = True\n",
    "        print (\"Error al intentar abrir el archivo \\\"PitchingPost.csv\\\".\")\n",
    "    if (error == False):\n",
    "        reader=csv.reader(file)\n",
    "        data=list(reader)\n",
    "        for i in range(1, len(data)):  \n",
    "            key=str(data[i][column]) \t\n",
    "            if map.get(key):\n",
    "                map[key]=map[key]+1\n",
    "            else:\n",
    "                map[key]=1\n",
    "        file.close()\n",
    "        # print (map)\n",
    "        escribe (map, fileName)\n"
   ]
  },
  {
   "cell_type": "code",
   "execution_count": 49,
   "metadata": {
    "scrolled": false
   },
   "outputs": [
    {
     "name": "stdout",
     "output_type": "stream",
     "text": [
      "Archivo AcumAnnos.csv creado con exito.\n",
      "Archivo AcumJugadores.csv creado con exito.\n",
      "Archivo \"PitchingPost\" ordenado con exito.\n"
     ]
    }
   ],
   "source": [
    "def sort():\n",
    "    error = False\n",
    "    try:\n",
    "        file=open(\"PitchingPost.csv\")\n",
    "    except IOError:\n",
    "        error = True\n",
    "        print (\"Error al intentar abrir el archivo \\\"PitchingPost.csv\\\".\")\n",
    "    if (error == False):\n",
    "        reader=csv.reader(file)\n",
    "        lista = []\n",
    "        for linea in reader:\n",
    "            if reader.line_num == 1: \n",
    "                encabezado = linea\n",
    "            else:\n",
    "                lista.append(linea)\n",
    "        file.close()\t\n",
    "        lista.sort()\n",
    "        lista.insert(0, encabezado) # inserta el encabezado al inicio una vez ordenada la lista\n",
    "        outFile=open(\"Ordenado.csv\", \"w\")\n",
    "        outWriter = csv.writer(outFile,lineterminator='\\n')\n",
    "        for row in lista:\n",
    "            outWriter.writerow(row)\n",
    "        outFile.close()\n",
    "        print (\"Archivo \\\"PitchingPost\\\" ordenado con exito.\")\n",
    "\n",
    "frecuency(1, \"AcumAnnos.csv\")\n",
    "frecuency(4, \"AcumJugadores.csv\")\n",
    "sort()\n"
   ]
  },
  {
   "cell_type": "code",
   "execution_count": null,
   "metadata": {},
   "outputs": [],
   "source": []
  },
  {
   "cell_type": "code",
   "execution_count": null,
   "metadata": {},
   "outputs": [],
   "source": []
  }
 ],
 "metadata": {
  "kernelspec": {
   "display_name": "Python 3",
   "language": "python",
   "name": "python3"
  },
  "language_info": {
   "codemirror_mode": {
    "name": "ipython",
    "version": 3
   },
   "file_extension": ".py",
   "mimetype": "text/x-python",
   "name": "python",
   "nbconvert_exporter": "python",
   "pygments_lexer": "ipython3",
   "version": "3.7.4"
  }
 },
 "nbformat": 4,
 "nbformat_minor": 2
}
