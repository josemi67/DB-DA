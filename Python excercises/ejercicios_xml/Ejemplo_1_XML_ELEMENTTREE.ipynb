{
 "cells": [
  {
   "cell_type": "code",
   "execution_count": 4,
   "metadata": {},
   "outputs": [
    {
     "name": "stdout",
     "output_type": "stream",
     "text": [
      "<xml.etree.ElementTree.ElementTree object at 0x000002778BDED9C8>\n",
      "tag:  Datos ---> \n",
      "\t <--- {}  EOL\n",
      "tag:  Libro ---> \n",
      "\t\t <--- {'isbn': '0-596-00128-2'}  EOL\n",
      "tag:  titulo ---> Python y XML <--- {}  EOL\n",
      "tag:  fecha ---> Diciembre 2001 <--- {}  EOL\n",
      "tag:  autor ---> Pepito Perez <--- {}  EOL\n",
      "tag:  Libro ---> \n",
      "\t\t <--- {'isbn': '0-596-15810-6'}  EOL\n",
      "tag:  titulo ---> Programacion avanzada de XML <--- {}  EOL\n",
      "tag:  fecha ---> Octubre 2010 <--- {}  EOL\n",
      "tag:  autor ---> Juan Garcia <--- {}  EOL\n",
      "tag:  Libro ---> \n",
      "\t\t <--- {'isbn': '0-596-15806-8'}  EOL\n",
      "tag:  titulo ---> Aprendiendo Java <--- {}  EOL\n",
      "tag:  fecha ---> Septiembre 2009 <--- {}  EOL\n",
      "tag:  autor ---> Juan Garcia <--- {}  EOL\n",
      "tag:  Libro ---> \n",
      "\t\t <--- {'isbn': '0-596-15808-4'}  EOL\n",
      "tag:  titulo ---> Python para moviles <--- {}  EOL\n",
      "tag:  titulo ---> EdiciÃ³n avanzada <--- {}  EOL\n",
      "tag:  fecha ---> Octubre 2009 <--- {}  EOL\n",
      "tag:  autor ---> Pepito Perez <--- {}  EOL\n",
      "tag:  Libro ---> \n",
      "\t\t <--- {'isbn': '0-596-00797-3'}  EOL\n",
      "tag:  titulo ---> R para estadÃ­stica <--- {}  EOL\n",
      "tag:  fecha ---> Marzo 2005 <--- {}  EOL\n",
      "tag:  autor ---> Juan <--- {}  EOL\n",
      "tag:  autor ---> Pepe <--- {}  EOL\n",
      "tag:  autor ---> Isabel <--- {}  EOL\n",
      "tag:  Libro --->  \n",
      "\t\t <--- {'isbn': '0-596-10046-9'}  EOL\n",
      "tag:  titulo ---> Python en 100 paginas <--- {}  EOL\n",
      "tag:  fecha ---> Julio 2006 <--- {}  EOL\n",
      "tag:  autor ---> Julia Holms <--- {}  EOL\n"
     ]
    }
   ],
   "source": [
    "from xml.etree import ElementTree\n",
    "f = open (\"datos.xml\", 'rt')\n",
    "arbol = ElementTree.parse(f)\n",
    "print (arbol)\n",
    "for nodo in arbol.iter():\n",
    "    print ('tag: ',nodo.tag, \"--->\",nodo.text, \"<---\" ,nodo.attrib, ' EOL')"
   ]
  },
  {
   "cell_type": "code",
   "execution_count": null,
   "metadata": {},
   "outputs": [],
   "source": []
  }
 ],
 "metadata": {
  "kernelspec": {
   "display_name": "Python 3",
   "language": "python",
   "name": "python3"
  },
  "language_info": {
   "codemirror_mode": {
    "name": "ipython",
    "version": 3
   },
   "file_extension": ".py",
   "mimetype": "text/x-python",
   "name": "python",
   "nbconvert_exporter": "python",
   "pygments_lexer": "ipython3",
   "version": "3.7.4"
  }
 },
 "nbformat": 4,
 "nbformat_minor": 2
}
