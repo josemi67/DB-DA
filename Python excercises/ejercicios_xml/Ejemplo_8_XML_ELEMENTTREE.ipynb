{
 "cells": [
  {
   "cell_type": "code",
   "execution_count": 2,
   "metadata": {},
   "outputs": [],
   "source": [
    "from xml.etree import ElementTree as ET\n",
    "f = open (\"datos.xml\")\n",
    "arbol = ET.parse(f)\n",
    "i=1\n",
    "for libro in arbol.iter(\"Libro\"):\n",
    "    cadena = str(i)\n",
    "    libro.set(\"orden\",cadena)\n",
    "    libro.set(\"ejemplares\",\"si\")\n",
    "    editorial = ET.Element(\"Editorial\")\n",
    "    editorial.text = \"Anaya\"\n",
    "    libro.append(editorial)\n",
    "    i+=1\n",
    "arbol.write(\"datosNew.xml\")    "
   ]
  },
  {
   "cell_type": "code",
   "execution_count": null,
   "metadata": {},
   "outputs": [],
   "source": []
  }
 ],
 "metadata": {
  "kernelspec": {
   "display_name": "Python 3",
   "language": "python",
   "name": "python3"
  },
  "language_info": {
   "codemirror_mode": {
    "name": "ipython",
    "version": 3
   },
   "file_extension": ".py",
   "mimetype": "text/x-python",
   "name": "python",
   "nbconvert_exporter": "python",
   "pygments_lexer": "ipython3",
   "version": "3.7.4"
  }
 },
 "nbformat": 4,
 "nbformat_minor": 2
}
