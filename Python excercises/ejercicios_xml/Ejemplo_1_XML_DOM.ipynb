{
 "cells": [
  {
   "cell_type": "code",
   "execution_count": 7,
   "metadata": {},
   "outputs": [
    {
     "name": "stdout",
     "output_type": "stream",
     "text": [
      "isbn: 0-596-00128-2\n",
      "titulos: Python y XML\n",
      "fecha: Diciembre 2001\n",
      "autor: Pepito Perez\n",
      "-----\n",
      "isbn: 0-596-15810-6\n",
      "titulos: Programacion avanzada de XML\n",
      "fecha: Octubre 2010\n",
      "autor: Juan Garcia\n",
      "-----\n",
      "isbn: 0-596-15806-8\n",
      "titulos: Aprendiendo Java\n",
      "fecha: Septiembre 2009\n",
      "autor: Juan Garcia\n",
      "-----\n",
      "isbn: 0-596-15808-4\n",
      "titulos: Python para moviles\n",
      "titulos: Edición avanzada\n",
      "fecha: Octubre 2009\n",
      "autor: Pepito Perez\n",
      "-----\n",
      "isbn: 0-596-00797-3\n",
      "titulos: R para estadística\n",
      "fecha: Marzo 2005\n",
      "autor: Juan\n",
      "autor: Pepe\n",
      "autor: Isabel\n",
      "-----\n",
      "isbn: 0-596-10046-9\n",
      "titulos: Python en 100 paginas\n",
      "fecha: Julio 2006\n",
      "autor: Julia Holms\n",
      "-----\n"
     ]
    }
   ],
   "source": [
    "from xml.dom.minidom  import parse\n",
    "import xml.dom.minidom \n",
    "\n",
    "ArbolDom = xml.dom.minidom.parse(\"datos.xml\")\n",
    "libros = ArbolDom.getElementsByTagName(\"Libro\")\n",
    "for libro in libros:\n",
    "    isbn = libro.getAttribute(\"isbn\")\n",
    "    print(\"isbn:\", isbn)\n",
    "    titulos = libro.getElementsByTagName(\"titulo\")\n",
    "    for titulo in titulos:\n",
    "        print(\"titulos:\", titulo.firstChild.data)\n",
    "    fecha = libro.getElementsByTagName(\"fecha\")[0]\n",
    "    print(\"fecha:\", fecha.firstChild.data)\n",
    "    autores = libro.getElementsByTagName(\"autor\")\n",
    "    for autor in autores:\n",
    "        print(\"autor:\", autor.firstChild.data)\n",
    "    print(\"-----\")\n",
    "            \n",
    "    \n"
   ]
  }
 ],
 "metadata": {
  "kernelspec": {
   "display_name": "Python 3",
   "language": "python",
   "name": "python3"
  },
  "language_info": {
   "codemirror_mode": {
    "name": "ipython",
    "version": 3
   },
   "file_extension": ".py",
   "mimetype": "text/x-python",
   "name": "python",
   "nbconvert_exporter": "python",
   "pygments_lexer": "ipython3",
   "version": "3.7.4"
  }
 },
 "nbformat": 4,
 "nbformat_minor": 2
}
