{
 "cells": [
  {
   "cell_type": "code",
   "execution_count": 9,
   "metadata": {},
   "outputs": [
    {
     "name": "stdout",
     "output_type": "stream",
     "text": [
      "Título:  Python y XML , fecha:  Diciembre 2001 Autor:  Pepito Perez\n",
      "Título:  Programacion avanzada de XML , fecha:  Octubre 2010\n",
      "Título:  Aprendiendo Java , fecha:  Septiembre 2009\n",
      "Título:  Python para moviles , fecha:  EdiciÃ³n avanzada\n",
      "Título:  R para estadÃ­stica , fecha:  Marzo 2005\n",
      "Título:  Python en 100 paginas , fecha:  Julio 2006\n"
     ]
    }
   ],
   "source": [
    "from xml.etree import ElementTree as ET\n",
    "f = open (\"datos.xml\", 'rt')\n",
    "arbol = ET.parse(f)\n",
    "raiz = arbol.getroot()\n",
    "print (\"Título: \",raiz[0][0].text, \", fecha: \",raiz[0][1].text, \"Autor: \",raiz[0][2].text)\n",
    "print (\"Título: \",raiz[1][0].text, \", fecha: \",raiz[1][1].text)\n",
    "print (\"Título: \",raiz[2][0].text, \", fecha: \",raiz[2][1].text)\n",
    "print (\"Título: \",raiz[3][0].text, \", fecha: \",raiz[3][1].text)\n",
    "print (\"Título: \",raiz[4][0].text, \", fecha: \",raiz[4][1].text)\n",
    "print (\"Título: \",raiz[5][0].text, \", fecha: \",raiz[5][1].text)"
   ]
  },
  {
   "cell_type": "code",
   "execution_count": 7,
   "metadata": {},
   "outputs": [
    {
     "name": "stdout",
     "output_type": "stream",
     "text": [
      "LIBRO:  Libro {'isbn': '0-596-00128-2'}\n",
      "    titulo : Python y XML\n",
      "    fecha : Diciembre 2001\n",
      "    autor : Pepito Perez\n",
      "LIBRO:  Libro {'isbn': '0-596-15810-6'}\n",
      "    titulo : Programacion avanzada de XML\n",
      "    fecha : Octubre 2010\n",
      "    autor : Juan Garcia\n",
      "LIBRO:  Libro {'isbn': '0-596-15806-8'}\n",
      "    titulo : Aprendiendo Java\n",
      "    fecha : Septiembre 2009\n",
      "    autor : Juan Garcia\n",
      "LIBRO:  Libro {'isbn': '0-596-15808-4'}\n",
      "    titulo : Python para moviles\n",
      "    titulo : EdiciÃ³n avanzada\n",
      "    fecha : Octubre 2009\n",
      "    autor : Pepito Perez\n",
      "LIBRO:  Libro {'isbn': '0-596-00797-3'}\n",
      "    titulo : R para estadÃ­stica\n",
      "    fecha : Marzo 2005\n",
      "    autor : Juan\n",
      "    autor : Pepe\n",
      "    autor : Isabel\n",
      "LIBRO:  Libro {'isbn': '0-596-10046-9'}\n",
      "    titulo : Python en 100 paginas\n",
      "    fecha : Julio 2006\n",
      "    autor : Julia Holms\n"
     ]
    }
   ],
   "source": [
    "# JMS pruebas\n",
    "from xml.etree import ElementTree as ET\n",
    "f = open (\"datos.xml\", 'rt')\n",
    "arbol = ET.parse(f)\n",
    "raiz = arbol.getroot()\n",
    "for hijo in raiz:\n",
    "    print ('LIBRO: ', hijo.tag, hijo.attrib)\n",
    "    for detalle in hijo:\n",
    "        print ('   ', detalle.tag,':' ,detalle.text)\n",
    "\n"
   ]
  },
  {
   "cell_type": "code",
   "execution_count": null,
   "metadata": {},
   "outputs": [],
   "source": []
  }
 ],
 "metadata": {
  "kernelspec": {
   "display_name": "Python 3",
   "language": "python",
   "name": "python3"
  },
  "language_info": {
   "codemirror_mode": {
    "name": "ipython",
    "version": 3
   },
   "file_extension": ".py",
   "mimetype": "text/x-python",
   "name": "python",
   "nbconvert_exporter": "python",
   "pygments_lexer": "ipython3",
   "version": "3.7.4"
  }
 },
 "nbformat": 4,
 "nbformat_minor": 2
}
