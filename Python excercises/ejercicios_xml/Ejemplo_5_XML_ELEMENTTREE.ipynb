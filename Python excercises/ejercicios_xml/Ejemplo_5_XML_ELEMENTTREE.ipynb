{
 "cells": [
  {
   "cell_type": "code",
   "execution_count": 2,
   "metadata": {},
   "outputs": [
    {
     "name": "stdout",
     "output_type": "stream",
     "text": [
      "Título:  1 Python y XML\n",
      "Título:  2 Programacion avanzada de XML\n",
      "Título:  3 Aprendiendo Java\n",
      "Título:  4 Python para moviles\n",
      "Título:  5 EdiciÃ³n avanzada\n",
      "Título:  6 R para estadÃ­stica\n",
      "Título:  7 Python en 100 paginas\n"
     ]
    }
   ],
   "source": [
    "from xml.etree import ElementTree as ET\n",
    "f = open (\"datos.xml\", 'rt')\n",
    "arbol = ET.parse(f)\n",
    "i=1\n",
    "for nodo in arbol.findall(\"./Libro/titulo\"):\n",
    "    print (\"Título: \",i,nodo.text)\n",
    "    i+=1"
   ]
  },
  {
   "cell_type": "code",
   "execution_count": 3,
   "metadata": {},
   "outputs": [
    {
     "name": "stdout",
     "output_type": "stream",
     "text": [
      "Título:  1 Python y XML\n",
      "Título:  2 Diciembre 2001\n",
      "Título:  3 Pepito Perez\n"
     ]
    }
   ],
   "source": [
    "from xml.etree import ElementTree as ET\n",
    "f = open (\"datos.xml\", 'rt')\n",
    "arbol = ET.parse(f)\n",
    "i=1\n",
    "for nodo in arbol.find(\"Libro\"):\n",
    "    print (\"Título: \",i,nodo.text)\n",
    "    i+=1"
   ]
  },
  {
   "cell_type": "code",
   "execution_count": 28,
   "metadata": {},
   "outputs": [
    {
     "name": "stdout",
     "output_type": "stream",
     "text": [
      "Libro:  1 {'isbn': '0-596-00128-2'}\n",
      "Detalles //  titulo : Python y XML\n",
      "Detalles //  fecha : Diciembre 2001\n",
      "Detalles //  autor : Pepito Perez\n",
      "Libro:  2 {'isbn': '0-596-15810-6'}\n",
      "Detalles //  titulo : Python y XML\n",
      "Detalles //  fecha : Diciembre 2001\n",
      "Detalles //  autor : Pepito Perez\n",
      "Libro:  3 {'isbn': '0-596-15806-8'}\n",
      "Detalles //  titulo : Python y XML\n",
      "Detalles //  fecha : Diciembre 2001\n",
      "Detalles //  autor : Pepito Perez\n",
      "Libro:  4 {'isbn': '0-596-15808-4'}\n",
      "Detalles //  titulo : Python y XML\n",
      "Detalles //  fecha : Diciembre 2001\n",
      "Detalles //  autor : Pepito Perez\n",
      "Libro:  5 {'isbn': '0-596-00797-3'}\n",
      "Detalles //  titulo : Python y XML\n",
      "Detalles //  fecha : Diciembre 2001\n",
      "Detalles //  autor : Pepito Perez\n",
      "Libro:  6 {'isbn': '0-596-10046-9'}\n",
      "Detalles //  titulo : Python y XML\n",
      "Detalles //  fecha : Diciembre 2001\n",
      "Detalles //  autor : Pepito Perez\n"
     ]
    }
   ],
   "source": [
    "from xml.etree import ElementTree as ET\n",
    "f = open (\"datos.xml\", 'rt')\n",
    "arbol = ET.parse(f)\n",
    "i=1\n",
    "for nodo in arbol.findall(\"./Libro\"):\n",
    "    print (\"Libro: \",i,nodo.attrib)\n",
    "    i+=1\n",
    "    for nodo in arbol.find(nodo.tag):\n",
    "        print (\"Detalles // \", nodo.tag,':', nodo.text)  #No esta bien porque el contenido del libro es el mismo\n",
    "        "
   ]
  },
  {
   "cell_type": "code",
   "execution_count": null,
   "metadata": {},
   "outputs": [],
   "source": []
  }
 ],
 "metadata": {
  "kernelspec": {
   "display_name": "Python 3",
   "language": "python",
   "name": "python3"
  },
  "language_info": {
   "codemirror_mode": {
    "name": "ipython",
    "version": 3
   },
   "file_extension": ".py",
   "mimetype": "text/x-python",
   "name": "python",
   "nbconvert_exporter": "python",
   "pygments_lexer": "ipython3",
   "version": "3.7.4"
  }
 },
 "nbformat": 4,
 "nbformat_minor": 2
}
