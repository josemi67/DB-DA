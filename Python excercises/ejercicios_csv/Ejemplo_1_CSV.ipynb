{
 "cells": [
  {
   "cell_type": "code",
   "execution_count": 12,
   "metadata": {},
   "outputs": [
    {
     "name": "stdout",
     "output_type": "stream",
     "text": [
      "Eliminando cabeceras de SacramentocrimeJanuary2006.csv...\n",
      "Eliminando cabeceras de Sacramentorealestatetransactions.csv...\n",
      "Eliminando cabeceras de SalesJan2009.csv...\n",
      "Eliminando cabeceras de Salida.csv...\n",
      "Eliminando cabeceras de Salida1.csv...\n",
      "Eliminando cabeceras de TechCrunchcontinentalUSA.csv...\n",
      "TechCrunchcontinentalUSA.csv\n"
     ]
    }
   ],
   "source": [
    "import csv, os \n",
    "#Se crea un directorio para almacenar los archivos sin cabecera \n",
    "os.makedirs('SinCabeceras', exist_ok=True) \n",
    "# Bucle para recuperar los archivos del directorio actual \n",
    "for csvFilename in os.listdir(): \n",
    "    if not csvFilename.endswith('.csv'): \n",
    "        continue # Saltar los archivos que no son csv \n",
    "    print('Eliminando cabeceras de ' + csvFilename + '...')\n",
    "    \n",
    "print (csvFilename)\n"
   ]
  },
  {
   "cell_type": "code",
   "execution_count": null,
   "metadata": {},
   "outputs": [],
   "source": []
  },
  {
   "cell_type": "code",
   "execution_count": null,
   "metadata": {},
   "outputs": [],
   "source": []
  },
  {
   "cell_type": "code",
   "execution_count": null,
   "metadata": {},
   "outputs": [],
   "source": []
  }
 ],
 "metadata": {
  "kernelspec": {
   "display_name": "Python 3",
   "language": "python",
   "name": "python3"
  },
  "language_info": {
   "codemirror_mode": {
    "name": "ipython",
    "version": 3
   },
   "file_extension": ".py",
   "mimetype": "text/x-python",
   "name": "python",
   "nbconvert_exporter": "python",
   "pygments_lexer": "ipython3",
   "version": "3.7.4"
  }
 },
 "nbformat": 4,
 "nbformat_minor": 2
}
