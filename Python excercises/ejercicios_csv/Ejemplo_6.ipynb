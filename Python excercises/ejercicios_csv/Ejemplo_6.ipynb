{
 "cells": [
  {
   "cell_type": "code",
   "execution_count": 4,
   "metadata": {},
   "outputs": [],
   "source": [
    "import csv\n",
    "archivoSalida = open (\"Salida1.csv\", 'w')\n",
    "salidaEscritor = csv.writer(archivoSalida,delimiter=';',lineterminator='\\n')\n",
    "salidaEscritor.writerow([\"naranjas\",\"limones\",\"peras\",\"uvas\"])\n",
    "salidaEscritor.writerow([\"jamon\",\"chorizo, de Salamanca\",\"queso\",\"salchichón\"])\n",
    "salidaEscritor.writerow([1,3,4,6])\n",
    "archivoSalida.close()"
   ]
  },
  {
   "cell_type": "code",
   "execution_count": null,
   "metadata": {},
   "outputs": [],
   "source": []
  }
 ],
 "metadata": {
  "kernelspec": {
   "display_name": "Python 3",
   "language": "python",
   "name": "python3"
  },
  "language_info": {
   "codemirror_mode": {
    "name": "ipython",
    "version": 3
   },
   "file_extension": ".py",
   "mimetype": "text/x-python",
   "name": "python",
   "nbconvert_exporter": "python",
   "pygments_lexer": "ipython3",
   "version": "3.7.4"
  }
 },
 "nbformat": 4,
 "nbformat_minor": 2
}
