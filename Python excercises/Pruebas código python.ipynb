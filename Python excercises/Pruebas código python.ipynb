{
 "cells": [
  {
   "cell_type": "code",
   "execution_count": 2,
   "metadata": {},
   "outputs": [
    {
     "name": "stdout",
     "output_type": "stream",
     "text": [
      "100\n"
     ]
    }
   ],
   "source": [
    "x=100\n",
    "print (x)"
   ]
  },
  {
   "cell_type": "markdown",
   "metadata": {},
   "source": [
    "# Include html code\n",
    "<p>Vamos a proceder a reenviar al usuario a otra página</p>\n",
    "<a href=\"https://www.hitsmobile.es\">Aqui debe ir al sitio web</a>"
   ]
  },
  {
   "cell_type": "code",
   "execution_count": 3,
   "metadata": {},
   "outputs": [],
   "source": [
    "def calculo(a,b):\n",
    "    return (a * b) / a"
   ]
  },
  {
   "cell_type": "code",
   "execution_count": 5,
   "metadata": {},
   "outputs": [
    {
     "data": {
      "text/plain": [
       "33.0"
      ]
     },
     "execution_count": 5,
     "metadata": {},
     "output_type": "execute_result"
    }
   ],
   "source": [
    "calculo (3,33)"
   ]
  },
  {
   "cell_type": "code",
   "execution_count": 7,
   "metadata": {},
   "outputs": [
    {
     "name": "stdout",
     "output_type": "stream",
     "text": [
      "<class 'float'>\n",
      "<class 'str'>\n"
     ]
    }
   ],
   "source": [
    "pi = 3.1415\n",
    "nombre = \"valor de pi\"\n",
    "print (type(pi))\n",
    "print (type(nombre))"
   ]
  },
  {
   "cell_type": "markdown",
   "metadata": {},
   "source": [
    "## Palabras reservadas de Python"
   ]
  },
  {
   "cell_type": "code",
   "execution_count": 8,
   "metadata": {},
   "outputs": [
    {
     "name": "stdout",
     "output_type": "stream",
     "text": [
      "['False', 'None', 'True', 'and', 'as', 'assert', 'async', 'await', 'break', 'class', 'continue', 'def', 'del', 'elif', 'else', 'except', 'finally', 'for', 'from', 'global', 'if', 'import', 'in', 'is', 'lambda', 'nonlocal', 'not', 'or', 'pass', 'raise', 'return', 'try', 'while', 'with', 'yield']\n"
     ]
    }
   ],
   "source": [
    "import keyword\n",
    "\n",
    "print(keyword.kwlist)\n",
    "\n"
   ]
  },
  {
   "cell_type": "code",
   "execution_count": 22,
   "metadata": {},
   "outputs": [
    {
     "name": "stdout",
     "output_type": "stream",
     "text": [
      "0.4499999999999993\n"
     ]
    }
   ],
   "source": [
    "i=12.45\n",
    "j=2\n",
    "res = i%j\n",
    "print (res)"
   ]
  },
  {
   "cell_type": "code",
   "execution_count": 23,
   "metadata": {},
   "outputs": [
    {
     "name": "stdout",
     "output_type": "stream",
     "text": [
      "bien! bien! bien! \n"
     ]
    }
   ],
   "source": [
    "print (3 * 'bien! ')"
   ]
  },
  {
   "cell_type": "code",
   "execution_count": 26,
   "metadata": {},
   "outputs": [
    {
     "name": "stdout",
     "output_type": "stream",
     "text": [
      "que edad tienes? doce\n"
     ]
    },
    {
     "ename": "ValueError",
     "evalue": "invalid literal for int() with base 10: 'doce'",
     "output_type": "error",
     "traceback": [
      "\u001b[1;31m---------------------------------------------------------------------------\u001b[0m",
      "\u001b[1;31mValueError\u001b[0m                                Traceback (most recent call last)",
      "\u001b[1;32m<ipython-input-26-142b05fbbf59>\u001b[0m in \u001b[0;36m<module>\u001b[1;34m\u001b[0m\n\u001b[1;32m----> 1\u001b[1;33m \u001b[0medad\u001b[0m \u001b[1;33m=\u001b[0m \u001b[0mint\u001b[0m\u001b[1;33m(\u001b[0m\u001b[0minput\u001b[0m\u001b[1;33m(\u001b[0m\u001b[1;34m'que edad tienes? '\u001b[0m\u001b[1;33m)\u001b[0m\u001b[1;33m)\u001b[0m\u001b[1;33m\u001b[0m\u001b[1;33m\u001b[0m\u001b[0m\n\u001b[0m\u001b[0;32m      2\u001b[0m \u001b[0mprint\u001b[0m \u001b[1;33m(\u001b[0m\u001b[1;34m'tu edad es '\u001b[0m\u001b[1;33m,\u001b[0m \u001b[0medad\u001b[0m\u001b[1;33m)\u001b[0m\u001b[1;33m\u001b[0m\u001b[1;33m\u001b[0m\u001b[0m\n",
      "\u001b[1;31mValueError\u001b[0m: invalid literal for int() with base 10: 'doce'"
     ]
    }
   ],
   "source": [
    "edad = int(input('que edad tienes? '))\n",
    "print ('tu edad es ', edad)"
   ]
  },
  {
   "cell_type": "code",
   "execution_count": 42,
   "metadata": {},
   "outputs": [
    {
     "name": "stdout",
     "output_type": "stream",
     "text": [
      "()\n",
      "('s', 'u', 'p', 'e', 'r', 'c', 'a', 'l', 'i', 'f', 'r', 'a', 'g', 'i', 'l', 'i', 's', 't', 'i', 'c', 'o', 'e', 's', 'p', 'i', 'a', 'l', 'i', 'd', 'o', 's', 'o')\n",
      "('u', 'p', 'e')\n",
      "5\n",
      "4\n",
      "6\n"
     ]
    }
   ],
   "source": [
    "#Prueba con tuplas\n",
    "\n",
    "t = tuple()\n",
    "\n",
    "print (t)\n",
    "\n",
    "t = tuple(\"supercalifragilisticoespialidoso\")\n",
    "\n",
    "print (t)\n",
    "\n",
    "print (t[1:4])\n",
    "\n",
    "t = (2019, \"Alondra\", \"Hacker\", (1, \"Enero\", 2019, \"Noche\"),52)\n",
    "\n",
    "print (len (t))                       # Devuelve 4\n",
    "\n",
    "print (len ( t[3] ))                 # Devuelve 3\n",
    "\n",
    "print (len(t[2]))\n"
   ]
  },
  {
   "cell_type": "code",
   "execution_count": 44,
   "metadata": {},
   "outputs": [
    {
     "name": "stdout",
     "output_type": "stream",
     "text": [
      "Escribe un numero del 1 al 10: 6\n",
      "El número  6  se repite  8  veces.\n"
     ]
    }
   ],
   "source": [
    "# prueba con tuplas\n",
    "tupla = (2,3,2,1,3,4,7,8,9,7,6,5,5,6,7,8,9,10,4,3,2,1,6,4,5,3,6,6,6,6,6)\n",
    "\n",
    "numero = int(input(\"Escribe un numero del 1 al 10: \"))\n",
    "\n",
    "contador= 0\n",
    "\n",
    "for i in tupla:\n",
    "\n",
    "    if numero == i:\n",
    "\n",
    "        contador = contador + 1\n",
    "\n",
    "print (\"El número \",numero,\" se repite \", contador, \" veces.\")"
   ]
  },
  {
   "cell_type": "code",
   "execution_count": 62,
   "metadata": {},
   "outputs": [
    {
     "name": "stdout",
     "output_type": "stream",
     "text": [
      "[1, 2, 3, 4]\n",
      "2\n",
      "6\n",
      "[1, 2, 6, 4]\n",
      "[1, 2, 3, [4, 5, 6]]\n",
      "3\n",
      "[4, 5, 6]\n",
      "6\n",
      "[4, 5, 6]\n",
      "4\n"
     ]
    }
   ],
   "source": [
    "# pruebas con listas\n",
    "lista = [1,2,3,4]\n",
    "\n",
    "print (lista)\n",
    "\n",
    "print (lista[-3])\n",
    "\n",
    "lista[2]*=2\n",
    "\n",
    "print (lista[2])\n",
    "\n",
    "print (lista)\n",
    "\n",
    "#Listas anidadas\n",
    "l = [1, 2, 3, [4, 5, 6]]\n",
    "\n",
    "print (l)\n",
    "print (l[2])\n",
    "print (l[3])\n",
    "print (l[3][2])\n",
    "print (l[-1])\n",
    "print (l[-1][-3])"
   ]
  },
  {
   "cell_type": "code",
   "execution_count": 110,
   "metadata": {},
   "outputs": [
    {
     "name": "stdout",
     "output_type": "stream",
     "text": [
      "lista b [4, 5, 6, 7, 8, 9, 1, 2, 3, 9, 4]\n",
      "lista b ordenada [1, 2, 3, 4, 4, 5, 6, 7, 8, 9, 9]\n",
      "[4, 5, 6, 7, 8, 9, 1, 2, 3, 9, 4]\n",
      "[4, 5, 6, 7, 8, 9, 1, 2, 3, 9, 4, 4]\n",
      "lista ordenada None\n",
      "True\n",
      "False\n",
      "True\n",
      "1\n",
      "2\n",
      "3\n",
      "4\n",
      "4\n",
      "5\n",
      "6\n",
      "7\n",
      "8\n",
      "9\n",
      "9\n",
      "[1, 2, 3, 4, 4, 4, 5, 6, 7, 8, 9, 9]\n",
      "lista con el 8 eliminado [1, 2, 3, 4, 4, 4, 5, 6, 7, 9, 9]\n"
     ]
    }
   ],
   "source": [
    "# pruebas con listas\n",
    "#El operador + concatena listas.\n",
    "a = [1, 2, 3, 9, 4]\n",
    "\n",
    "b = [4, 5, 6, 7, 8, 9]\n",
    "\n",
    "c = b + a\n",
    "b.extend(a)\n",
    "print('lista b',b)\n",
    "b.sort()\n",
    "print('lista b ordenada', b)\n",
    "\n",
    "print (c)               # Devuelve [1, 2, 3, 4, 5, 6]\n",
    "\n",
    "c.append(4)\n",
    "print (c)\n",
    "print ('lista ordenada', c.sort())\n",
    "print (2 in a)        # True\n",
    "print (5 in a)        # False\n",
    "print (5 in b)        # True\n",
    "\n",
    "for x in b:\n",
    "    print (x)\n",
    "    \n",
    "c.sort()\n",
    "print (c)\n",
    "c.remove(8)  # si la referncia existe mas de una vez no borra ningun elemento de la lista\n",
    "print ('lista con el 8 eliminado', c)"
   ]
  },
  {
   "cell_type": "code",
   "execution_count": 83,
   "metadata": {},
   "outputs": [
    {
     "name": "stdout",
     "output_type": "stream",
     "text": [
      "26\n",
      "5\n",
      "9 1\n",
      "-1\n"
     ]
    },
    {
     "data": {
      "text/plain": [
       "[-4, -3, -2, -1, 0, 1, 2]"
      ]
     },
     "execution_count": 83,
     "metadata": {},
     "output_type": "execute_result"
    }
   ],
   "source": [
    "# operaciones con listas\n",
    "t = [1, 2, 3, 9, 5, 6]\n",
    "\n",
    "print(sum (t))                 # Devuelve 21\n",
    "print (sum (t[1:3]))\n",
    "print (max(t), min(t))\n",
    "\n",
    "lista = range (-4,3)\n",
    "print ( lista[3])          # Devuelve [-3, -2, -1, 0, 1, 2]\n",
    "list (lista)\n",
    "\n"
   ]
  },
  {
   "cell_type": "code",
   "execution_count": 99,
   "metadata": {},
   "outputs": [
    {
     "name": "stdout",
     "output_type": "stream",
     "text": [
      "['a', 'c', 'd', 'e', 'x']\n",
      "[1, 2, 3, 4, 5, 6, 7, 8, 9]\n"
     ]
    }
   ],
   "source": [
    "# sort ordena los elementos de una lista de menor a mayor.\n",
    "t = [\"d\",\"e\",\"a\",\"c\",\"x\"]\n",
    "\n",
    "t.sort()\n",
    "\n",
    "print (t)                  # Devuelve ['a', 'c', 'd', 'e', 'x']\n",
    "\n",
    "t = [7,6,5,4,3,2,1,9,8]\n",
    "\n",
    "t.sort()\n",
    "\n",
    "print (t)                  # Devuelve [1, 2, 3, 4, 5, 6, 7]"
   ]
  },
  {
   "cell_type": "code",
   "execution_count": 112,
   "metadata": {},
   "outputs": [
    {
     "name": "stdout",
     "output_type": "stream",
     "text": [
      "Escribe una palabra: rapidamente\n",
      "rapidamente\n",
      "['r', 'a', 'p', 'i', 'd', 'm', 'e', 'n', 't']\n"
     ]
    }
   ],
   "source": [
    "palabra = input(\"Escribe una palabra: \")\n",
    "\n",
    "lista = []\n",
    "\n",
    "for c in palabra:\n",
    "\n",
    "    if(c not in lista):\n",
    "\n",
    "        lista.append(c)\n",
    "\n",
    "print(palabra)\n",
    "\n",
    "print(lista)"
   ]
  },
  {
   "cell_type": "code",
   "execution_count": 114,
   "metadata": {},
   "outputs": [
    {
     "name": "stdout",
     "output_type": "stream",
     "text": [
      "¿Cúantos elementos tendrá la lista?: 5\n",
      "Escribe un numero: 1\n",
      "Escribe un numero: 5\n",
      "Escribe un numero: 9\n",
      "Escribe un numero: 11\n",
      "Escribe un numero: 14\n",
      "[1, 5, 9, 11, 14]\n",
      "La suma es  40\n",
      "El promedio es  8.0\n"
     ]
    }
   ],
   "source": [
    "lista = []\n",
    "\n",
    "total = int(input(\"¿Cúantos elementos tendrá la lista?: \"))\n",
    "\n",
    "for i in range(total):\n",
    "\n",
    "    numero = int(input(\"Escribe un numero: \"))\n",
    "\n",
    "    lista.append(numero)\n",
    "\n",
    "suma = sum(lista)\n",
    "\n",
    "promedio = suma / len(lista)\n",
    "\n",
    "print (lista)\n",
    "\n",
    "print(\"La suma es \",suma)\n",
    "\n",
    "print(\"El promedio es \",promedio)"
   ]
  },
  {
   "cell_type": "code",
   "execution_count": 120,
   "metadata": {},
   "outputs": [
    {
     "name": "stdout",
     "output_type": "stream",
     "text": [
      "El camión rojo de Juan\n",
      "El-camión-rojo-de-Juan\n"
     ]
    }
   ],
   "source": [
    "s = ['El', 'camión', 'rojo', 'de', 'Juan']\n",
    "\n",
    "delimitador = \" \"\n",
    "\n",
    "print (delimitador.join(s))              # Devuelve 'El camión rojo de Juan'\n",
    "\n",
    "delimitador = \"-\"\n",
    "\n",
    "print (delimitador.join(s))             # Devuelve 'El-camión-rojo-de-Juan"
   ]
  },
  {
   "cell_type": "code",
   "execution_count": 122,
   "metadata": {},
   "outputs": [
    {
     "name": "stdout",
     "output_type": "stream",
     "text": [
      "[9, 81, 729, 6561, 59049, 531441, 4782969, 43046721, 387420489, 3486784401, 31381059609, 282429536481, 2541865828329, 22876792454961, 205891132094649, 1853020188851841, 16677181699666569, 150094635296999121, 1350851717672992089, 12157665459056928801, 109418989131512359209, 984770902183611232881, 8862938119652501095929, 79766443076872509863361, 717897987691852588770249, 6461081889226673298932241, 58149737003040059690390169, 523347633027360537213511521, 4710128697246244834921603689, 42391158275216203514294433201, 381520424476945831628649898809, 3433683820292512484657849089281, 30903154382632612361920641803529, 278128389443693511257285776231761, 2503155504993241601315571986085849, 22528399544939174411840147874772641, 202755595904452569706561330872953769, 1824800363140073127359051977856583921, 16423203268260658146231467800709255289, 147808829414345923316083210206383297601, 1330279464729113309844748891857449678409, 11972515182562019788602740026717047105681, 107752636643058178097424660240453423951129, 969773729787523602876821942164080815560161, 8727963568087712425891397479476727340041449, 78551672112789411833022577315290546060373041, 706965049015104706497203195837614914543357369, 6362685441135942358474828762538534230890216321, 57264168970223481226273458862846808078011946889, 515377520732011331036461129765621272702107522001]\n",
      "[3, 6, 9, 12, 15, 18, 21, 24, 27, 30, 33, 36, 39, 42, 45, 48, 51, 54, 57, 60, 63, 66, 69, 72, 75, 78, 81, 84, 87, 90, 93, 96, 99]\n"
     ]
    }
   ],
   "source": [
    "c = [3 ** x for x in range(1,101) if x % 2 == 0]\n",
    "\n",
    "print (c)\n",
    "\n",
    "c = [ x for x in range(1,101) if x % 3 == 0]\n",
    "\n",
    "print (c)"
   ]
  },
  {
   "cell_type": "code",
   "execution_count": 139,
   "metadata": {},
   "outputs": [
    {
     "name": "stdout",
     "output_type": "stream",
     "text": [
      "dict_values(['Libro', 34, (3, 4)])\n",
      "5\n",
      "100\n",
      "42\n",
      "dict_keys(['naranjas', 'limones', 'peras'])\n"
     ]
    },
    {
     "data": {
      "text/plain": [
       "dict_items([('naranjas', 1), ('limones', 42), ('peras', 100)])"
      ]
     },
     "execution_count": 139,
     "metadata": {},
     "output_type": "execute_result"
    }
   ],
   "source": [
    "# diccionarios\n",
    "ejemplo2 = {\"primero\":\"Libro\",\"segundo\":34,\"tercero\":(3,4)}\n",
    "\n",
    "\"primero\" in ejemplo2                        # True\n",
    "\n",
    "valores = ejemplo2.values()\n",
    "\n",
    "print (valores)\n",
    "\n",
    "'hola' in valores\n",
    "'Libro' in valores\n",
    "\n",
    "contadores = {\"naranjas\":1, \"limones\":42, \"peras\":100}\n",
    "\n",
    "print ( contadores.get(\"uvas\",5))       # Devuelve 5\n",
    "\n",
    "print (contadores.get(\"peras\",0))    # Devuelve 100\n",
    "\n",
    "print (contadores.get(\"limones\"))    # Devuelve 42\n",
    "\n",
    "claves = contadores.keys()\n",
    "\n",
    "print (claves)\n",
    "\n",
    "t = contadores.items();\n",
    "\n",
    "t    \n"
   ]
  },
  {
   "cell_type": "code",
   "execution_count": 148,
   "metadata": {},
   "outputs": [
    {
     "name": "stdout",
     "output_type": "stream",
     "text": [
      "Directorio actual:  C:\\Users\\jsuarez\\Documents\\Master Big Data & DA\\Python excercises\n",
      "Directorios/ficheros:  ['.ipynb_checkpoints', 'Pruebas código python.ipynb']\n"
     ]
    },
    {
     "data": {
      "text/plain": [
       "['DirEntry',\n",
       " 'F_OK',\n",
       " 'MutableMapping',\n",
       " 'O_APPEND',\n",
       " 'O_BINARY',\n",
       " 'O_CREAT',\n",
       " 'O_EXCL',\n",
       " 'O_NOINHERIT',\n",
       " 'O_RANDOM',\n",
       " 'O_RDONLY',\n",
       " 'O_RDWR',\n",
       " 'O_SEQUENTIAL',\n",
       " 'O_SHORT_LIVED',\n",
       " 'O_TEMPORARY',\n",
       " 'O_TEXT',\n",
       " 'O_TRUNC',\n",
       " 'O_WRONLY',\n",
       " 'P_DETACH',\n",
       " 'P_NOWAIT',\n",
       " 'P_NOWAITO',\n",
       " 'P_OVERLAY',\n",
       " 'P_WAIT',\n",
       " 'PathLike',\n",
       " 'R_OK',\n",
       " 'SEEK_CUR',\n",
       " 'SEEK_END',\n",
       " 'SEEK_SET',\n",
       " 'TMP_MAX',\n",
       " 'W_OK',\n",
       " 'X_OK',\n",
       " '_Environ',\n",
       " '__all__',\n",
       " '__builtins__',\n",
       " '__cached__',\n",
       " '__doc__',\n",
       " '__file__',\n",
       " '__loader__',\n",
       " '__name__',\n",
       " '__package__',\n",
       " '__spec__',\n",
       " '_execvpe',\n",
       " '_exists',\n",
       " '_exit',\n",
       " '_fspath',\n",
       " '_get_exports_list',\n",
       " '_putenv',\n",
       " '_unsetenv',\n",
       " '_wrap_close',\n",
       " 'abc',\n",
       " 'abort',\n",
       " 'access',\n",
       " 'altsep',\n",
       " 'chdir',\n",
       " 'chmod',\n",
       " 'close',\n",
       " 'closerange',\n",
       " 'cpu_count',\n",
       " 'curdir',\n",
       " 'defpath',\n",
       " 'device_encoding',\n",
       " 'devnull',\n",
       " 'dup',\n",
       " 'dup2',\n",
       " 'environ',\n",
       " 'error',\n",
       " 'execl',\n",
       " 'execle',\n",
       " 'execlp',\n",
       " 'execlpe',\n",
       " 'execv',\n",
       " 'execve',\n",
       " 'execvp',\n",
       " 'execvpe',\n",
       " 'extsep',\n",
       " 'fdopen',\n",
       " 'fsdecode',\n",
       " 'fsencode',\n",
       " 'fspath',\n",
       " 'fstat',\n",
       " 'fsync',\n",
       " 'ftruncate',\n",
       " 'get_exec_path',\n",
       " 'get_handle_inheritable',\n",
       " 'get_inheritable',\n",
       " 'get_terminal_size',\n",
       " 'getcwd',\n",
       " 'getcwdb',\n",
       " 'getenv',\n",
       " 'getlogin',\n",
       " 'getpid',\n",
       " 'getppid',\n",
       " 'isatty',\n",
       " 'kill',\n",
       " 'linesep',\n",
       " 'link',\n",
       " 'listdir',\n",
       " 'lseek',\n",
       " 'lstat',\n",
       " 'makedirs',\n",
       " 'mkdir',\n",
       " 'name',\n",
       " 'open',\n",
       " 'pardir',\n",
       " 'path',\n",
       " 'pathsep',\n",
       " 'pipe',\n",
       " 'popen',\n",
       " 'putenv',\n",
       " 'read',\n",
       " 'readlink',\n",
       " 'remove',\n",
       " 'removedirs',\n",
       " 'rename',\n",
       " 'renames',\n",
       " 'replace',\n",
       " 'rmdir',\n",
       " 'scandir',\n",
       " 'sep',\n",
       " 'set_handle_inheritable',\n",
       " 'set_inheritable',\n",
       " 'spawnl',\n",
       " 'spawnle',\n",
       " 'spawnv',\n",
       " 'spawnve',\n",
       " 'st',\n",
       " 'startfile',\n",
       " 'stat',\n",
       " 'stat_result',\n",
       " 'statvfs_result',\n",
       " 'strerror',\n",
       " 'supports_bytes_environ',\n",
       " 'supports_dir_fd',\n",
       " 'supports_effective_ids',\n",
       " 'supports_fd',\n",
       " 'supports_follow_symlinks',\n",
       " 'symlink',\n",
       " 'sys',\n",
       " 'system',\n",
       " 'terminal_size',\n",
       " 'times',\n",
       " 'times_result',\n",
       " 'truncate',\n",
       " 'umask',\n",
       " 'uname_result',\n",
       " 'unlink',\n",
       " 'urandom',\n",
       " 'utime',\n",
       " 'waitpid',\n",
       " 'walk',\n",
       " 'write']"
      ]
     },
     "execution_count": 148,
     "metadata": {},
     "output_type": "execute_result"
    }
   ],
   "source": [
    "import os as te\n",
    "\n",
    "print(\"Directorio actual: \",    te.getcwd())\n",
    "\n",
    "print(\"Directorios/ficheros: \", te.listdir(os.getcwd()))\n",
    "\n",
    "dir (te)"
   ]
  },
  {
   "cell_type": "code",
   "execution_count": 142,
   "metadata": {},
   "outputs": [
    {
     "name": "stdout",
     "output_type": "stream",
     "text": [
      "Teclea el radio de un círculo: 5\n",
      "Selecciona una opción\n",
      "1 Calcular perímetro\n",
      "2 Calcular área\n",
      "3 Ambos\n",
      "4 Salir\n",
      "Teclea opción: 3\n",
      "Perímetro es:  31.41592653589793\n",
      "Área es:  78.53981633974483\n"
     ]
    }
   ],
   "source": [
    "from math import pi\n",
    "\n",
    "radio = float(input('Teclea el radio de un círculo: '))\n",
    "\n",
    "print (\"Selecciona una opción\")\n",
    "\n",
    "print (\"1 Calcular perímetro\")\n",
    "\n",
    "print (\"2 Calcular área\")\n",
    "\n",
    "print (\"3 Ambos\")\n",
    "\n",
    "print (\"4 Salir\")\n",
    "\n",
    "opcion = int(input('Teclea opción: '))\n",
    "\n",
    "while not opcion in (1,2,3,4):\n",
    "\n",
    "    opcion = int(input('Teclea opción: '))\n",
    "\n",
    "if opcion == 1:   \n",
    "\n",
    "    print (\"Perímetro es: \",(2*pi*radio) )\n",
    "\n",
    "elif opcion == 2:   \n",
    "\n",
    "    print (\"Área es: \",(pi*radio*radio) )\n",
    "\n",
    "elif opcion == 3:  \n",
    "\n",
    "    print (\"Perímetro es: \",(2*pi*radio) )\n",
    "\n",
    "    print (\"Área es: \",(pi*radio*radio) )\n",
    "\n",
    "else:\n",
    "\n",
    "    print (\"Adios\")"
   ]
  },
  {
   "cell_type": "code",
   "execution_count": 188,
   "metadata": {},
   "outputs": [
    {
     "name": "stdout",
     "output_type": "stream",
     "text": [
      "['age', 'gender', 'type\\n']\n",
      "['16', '1', 'Pop\\n']\n",
      "['19', '1', 'Pop\\n']\n",
      "['21', '1', 'Rock\\n']\n",
      "['22', '1', 'Rock\\n']\n",
      "['25', '1', 'Rock\\n']\n",
      "['28', '1', 'Jazz\\n']\n",
      "['17', '2', 'Dance\\n']\n",
      "House\n",
      "\n",
      "['19', '2', 'Dance\\n']\n",
      "House\n",
      "\n",
      "['20', '2', 'Romantic\\n']\n",
      "['22', '2', 'Romantic\\n']\n",
      "['24', '2', 'R&B\\n']\n",
      "['27', '2', 'R&B\\n']\n",
      "['age,gender,type\\n', '16,1,Pop\\n', '19,1,Pop\\n', '21,1,Rock\\n', '22,1,Rock\\n', '25,1,Rock\\n', '28,1,Jazz\\n', '17,2,House\\n', '19,2,House\\n', '20,2,Romantic\\n', '22,2,Romantic\\n', '24,2,R&B\\n', '27,2,R&B\\n', '29,2,Jazz\\n']\n"
     ]
    }
   ],
   "source": [
    "# lee un fichero, y copia su contenido en otro pero modificando el texto Dance por House\n",
    "fichero = open(\"../../music1.txt\")\n",
    "lineas = fichero.readlines()\n",
    "\n",
    "salida = open(\"../../musicModified.csv\",'w')\n",
    "\n",
    "for  i, line in enumerate(lineas):\n",
    "    lista = line.split(\"\\t\")\n",
    "    print (lista)\n",
    "    if lista[2] == 'Dance\\n':\n",
    "\n",
    "        salida.write( lista[0]+','+lista[1]+',House\\n' )\n",
    "        print ('House\\n')\n",
    "\n",
    "    else:\n",
    "        salida.write( lista[0]+','+lista[1]+','+lista[2] )\n",
    "\n",
    "salida.close()\n",
    "    \n",
    "# añade una linea al final del fichero    \n",
    "open ( \"../../musicModified.csv\" ,'a' ).write('29,2,Jazz\\n')   \n",
    "\n",
    "rev = open(\"../../musicModified.csv\")\n",
    "revLines = rev.readlines()\n",
    "print (revLines)\n",
    "    "
   ]
  },
  {
   "cell_type": "code",
   "execution_count": null,
   "metadata": {},
   "outputs": [],
   "source": []
  }
 ],
 "metadata": {
  "kernelspec": {
   "display_name": "Python 3",
   "language": "python",
   "name": "python3"
  },
  "language_info": {
   "codemirror_mode": {
    "name": "ipython",
    "version": 3
   },
   "file_extension": ".py",
   "mimetype": "text/x-python",
   "name": "python",
   "nbconvert_exporter": "python",
   "pygments_lexer": "ipython3",
   "version": "3.7.4"
  }
 },
 "nbformat": 4,
 "nbformat_minor": 2
}
