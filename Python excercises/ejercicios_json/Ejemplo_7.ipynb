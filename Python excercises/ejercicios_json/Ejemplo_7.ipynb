{
 "cells": [
  {
   "cell_type": "code",
   "execution_count": 1,
   "metadata": {},
   "outputs": [
    {
     "name": "stdout",
     "output_type": "stream",
     "text": [
      "{'nombre': 'Sofia', 'matriculado': True, 'asignaturas': 34, 'ID': None}\n",
      "Sofia\n",
      "34\n",
      "True\n"
     ]
    }
   ],
   "source": [
    "JsonDatos='{\"nombre\":\"Sofia\",\"matriculado\":true,\"asignaturas\":34,\"ID\":null}' \n",
    "import json \n",
    "PythonDatos=json.loads(JsonDatos)\n",
    "print (PythonDatos)\n",
    "print (PythonDatos[\"nombre\"])\n",
    "print (PythonDatos[\"asignaturas\"])\n",
    "print (PythonDatos[\"matriculado\"])"
   ]
  },
  {
   "cell_type": "code",
   "execution_count": null,
   "metadata": {},
   "outputs": [],
   "source": []
  },
  {
   "cell_type": "code",
   "execution_count": null,
   "metadata": {},
   "outputs": [],
   "source": []
  }
 ],
 "metadata": {
  "kernelspec": {
   "display_name": "Python 3",
   "language": "python",
   "name": "python3"
  },
  "language_info": {
   "codemirror_mode": {
    "name": "ipython",
    "version": 3
   },
   "file_extension": ".py",
   "mimetype": "text/x-python",
   "name": "python",
   "nbconvert_exporter": "python",
   "pygments_lexer": "ipython3",
   "version": "3.7.4"
  }
 },
 "nbformat": 4,
 "nbformat_minor": 2
}
