{
 "cells": [
  {
   "cell_type": "code",
   "execution_count": null,
   "metadata": {},
   "outputs": [
    {
     "name": "stdout",
     "output_type": "stream",
     "text": [
      "Teclea la dirección IP a consultar o FIN para terminar: 10.80.0.225\n",
      "Recuperando http://ip-api.com/json/10.80.0.225\n",
      "Recuperados 65  caracteres\n",
      "Error al obtener datos private range\n",
      "Teclea la dirección IP a consultar o FIN para terminar: 123.45.12.12\n",
      "Recuperando http://ip-api.com/json/123.45.12.12\n",
      "Recuperados 248  caracteres\n",
      "City:  Seoul\n",
      "Country:  South Korea\n",
      "Country Code:  KR\n",
      "isp:  SAMSUNGSDS\n",
      "Lat:  37.5145\n",
      "Log:  127.107\n",
      "Region:  11\n",
      "regionName:  Seoul\n",
      "timezone:  Asia/Seoul\n",
      "Teclea la dirección IP a consultar o FIN para terminar: 10.158.149.241\n",
      "Recuperando http://ip-api.com/json/10.158.149.241\n",
      "Recuperados 68  caracteres\n",
      "Error al obtener datos private range\n"
     ]
    }
   ],
   "source": [
    "import urllib.request \n",
    "import json \n",
    "\n",
    "serviceurl = 'http://ip-api.com/json/' \n",
    "while True: \n",
    "    ip = input('Teclea la dirección IP a consultar o FIN para terminar: ')\n",
    "    if ip == 'FIN':\n",
    "        break\n",
    "    else:\n",
    "        url = serviceurl + ip \n",
    "        print ('Recuperando', url) \n",
    "        request = urllib.request.Request(url)\n",
    "        request.add_header('User-Agent',\"cheese\")\n",
    "        data = urllib.request.urlopen(request).read()\n",
    "        print ('Recuperados',len(data),' caracteres') \n",
    "        try: \n",
    "            js = json.loads(data)\n",
    "        except: js - None\n",
    "        if ( \"status\" in js and js['status'] == \"fail\"  ):\n",
    "            print (\"Error al obtener datos\",js['message'])\n",
    "        else:\n",
    "            print (\"City: \",js['city'])\n",
    "            print (\"Country: \",js['country'])\n",
    "            print (\"Country Code: \",js['countryCode'])\n",
    "            print (\"isp: \",js['isp'])\n",
    "            print (\"Lat: \",js['lat'])\n",
    "            print (\"Log: \",js['lon'])\n",
    "            print (\"Region: \",js['region'])\n",
    "            print (\"regionName: \",js['regionName'])\n",
    "            print (\"timezone: \",js['timezone'])"
   ]
  },
  {
   "cell_type": "code",
   "execution_count": null,
   "metadata": {},
   "outputs": [],
   "source": []
  }
 ],
 "metadata": {
  "kernelspec": {
   "display_name": "Python 3",
   "language": "python",
   "name": "python3"
  },
  "language_info": {
   "codemirror_mode": {
    "name": "ipython",
    "version": 3
   },
   "file_extension": ".py",
   "mimetype": "text/x-python",
   "name": "python",
   "nbconvert_exporter": "python",
   "pygments_lexer": "ipython3",
   "version": "3.7.4"
  }
 },
 "nbformat": 4,
 "nbformat_minor": 2
}
