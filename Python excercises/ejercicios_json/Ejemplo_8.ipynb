{
 "cells": [
  {
   "cell_type": "code",
   "execution_count": 1,
   "metadata": {},
   "outputs": [
    {
     "name": "stdout",
     "output_type": "stream",
     "text": [
      "\"{\\\"nombre\\\":\\\"Sofia\\\",\\\"matriculado\\\":true,\\\"asignaturas\\\":34,\\\"ID\\\":none}\"\n"
     ]
    }
   ],
   "source": [
    "JsonDatos='{\"nombre\":\"Sofia\",\"matriculado\":true,\"asignaturas\":34,\"ID\":none}'\n",
    "import json\n",
    "PythonDatos=json.dumps(JsonDatos)\n",
    "print (PythonDatos)"
   ]
  },
  {
   "cell_type": "code",
   "execution_count": null,
   "metadata": {},
   "outputs": [],
   "source": []
  }
 ],
 "metadata": {
  "kernelspec": {
   "display_name": "Python 3",
   "language": "python",
   "name": "python3"
  },
  "language_info": {
   "codemirror_mode": {
    "name": "ipython",
    "version": 3
   },
   "file_extension": ".py",
   "mimetype": "text/x-python",
   "name": "python",
   "nbconvert_exporter": "python",
   "pygments_lexer": "ipython3",
   "version": "3.7.4"
  }
 },
 "nbformat": 4,
 "nbformat_minor": 2
}
