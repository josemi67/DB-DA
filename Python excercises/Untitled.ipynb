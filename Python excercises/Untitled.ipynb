{
 "cells": [
  {
   "cell_type": "markdown",
   "metadata": {},
   "source": [
    "## caso práctico Python\n",
    "\n",
    "### Cifrado de mensajes"
   ]
  },
  {
   "cell_type": "code",
   "execution_count": 20,
   "metadata": {},
   "outputs": [
    {
     "name": "stdout",
     "output_type": "stream",
     "text": [
      "Introduzca el mensaje a cifrar: xyz\n",
      "Valor para la clave de cifrado: 2\n",
      "El mensaje cifrado es:  ZAB\n"
     ]
    }
   ],
   "source": [
    "def cifrado (cadena, salto):\n",
    "    lista = (\"A\",\"B\",\"C\",\"D\",\"E\",\"F\",\"G\",\"H\",\"I\",\"J\",\"K\",\"L\",\"M\",\"N\",\"Ñ\",\"O\",\"P\",\"Q\",\"R\",\"S\",\"T\",\"U\",\"V\",\"W\",\"X\",\"Y\",\"Z\")\n",
    "    salida = ''    \n",
    "        \n",
    "    for letra in cadena:\n",
    "        i = 0\n",
    "        pos = 0\n",
    "        \n",
    "        for valor in lista:\n",
    "            # print ('letra',letra,'valor',valor,'i',i,'pos',pos)\n",
    "            if letra == valor:\n",
    "                pos = i + salto\n",
    "        \n",
    "                if (pos > 25):\n",
    "                    pos -= 27\n",
    "            \n",
    "                salida += lista[pos]\n",
    "                break\n",
    "            i += 1\n",
    "            \n",
    "    return salida\n",
    "\n",
    "\n",
    "# Inicio del programa\n",
    "mensaje = (input ('Introduzca el mensaje a cifrar: '))\n",
    "\n",
    "#clave = 1\n",
    "\n",
    "#while (clave > 0 and clave <10):\n",
    "clave = int(input ('Valor para la clave de cifrado: '))\n",
    "\n",
    "print ('El mensaje cifrado es: ', cifrado(mensaje.upper(), clave))\n",
    "    \n",
    "    \n",
    "    "
   ]
  },
  {
   "cell_type": "code",
   "execution_count": null,
   "metadata": {},
   "outputs": [],
   "source": []
  },
  {
   "cell_type": "code",
   "execution_count": null,
   "metadata": {},
   "outputs": [],
   "source": []
  }
 ],
 "metadata": {
  "kernelspec": {
   "display_name": "Python 3",
   "language": "python",
   "name": "python3"
  },
  "language_info": {
   "codemirror_mode": {
    "name": "ipython",
    "version": 3
   },
   "file_extension": ".py",
   "mimetype": "text/x-python",
   "name": "python",
   "nbconvert_exporter": "python",
   "pygments_lexer": "ipython3",
   "version": "3.7.4"
  }
 },
 "nbformat": 4,
 "nbformat_minor": 2
}
